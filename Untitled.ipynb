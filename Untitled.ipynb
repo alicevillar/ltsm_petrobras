{
 "cells": [
  {
   "cell_type": "markdown",
   "metadata": {},
   "source": [
    "# Recurrent Neural Network - Long short-term memory (LSTM) \n",
    "\n",
    "The purpose of this study was to build a LSTM Model to Predict Stock Prices"
   ]
  },
  {
   "cell_type": "code",
   "execution_count": 218,
   "metadata": {},
   "outputs": [],
   "source": [
    "import pandas as pd # to aide in loading and manipulating our datasets.\n",
    "import numpy as np # for scientific computation\n",
    "import matplotlib.pyplot as plt # for plotting graphs\n",
    "from sklearn.preprocessing import MinMaxScaler\n",
    "from tensorflow.keras.models import Sequential\n",
    "from tensorflow.keras.layers import Dense, Dropout, LSTM"
   ]
  },
  {
   "cell_type": "markdown",
   "metadata": {},
   "source": [
    "## PART 1 - Data Handling"
   ]
  },
  {
   "cell_type": "code",
   "execution_count": 219,
   "metadata": {},
   "outputs": [],
   "source": [
    "# Loading the Dataset\n",
    "dataset_train = pd.read_csv('dataset_2012_2018.csv')"
   ]
  },
  {
   "cell_type": "code",
   "execution_count": 220,
   "metadata": {},
   "outputs": [],
   "source": [
    "# Drop null values\n",
    "dataset_train = dataset_train.dropna()\n",
    "# another way: dataset_train.dropna(inplace=True)"
   ]
  },
  {
   "cell_type": "code",
   "execution_count": 221,
   "metadata": {},
   "outputs": [
    {
     "data": {
      "text/plain": [
       "(1759, 7)"
      ]
     },
     "execution_count": 221,
     "metadata": {},
     "output_type": "execute_result"
    }
   ],
   "source": [
    "# The shape property returns a tuple representing the dimensionality of the DataFrame. \n",
    "# The format of shape is (rows, columns)\n",
    "dataset_train.shape"
   ]
  },
  {
   "cell_type": "code",
   "execution_count": 222,
   "metadata": {},
   "outputs": [
    {
     "data": {
      "text/html": [
       "<div>\n",
       "<style scoped>\n",
       "    .dataframe tbody tr th:only-of-type {\n",
       "        vertical-align: middle;\n",
       "    }\n",
       "\n",
       "    .dataframe tbody tr th {\n",
       "        vertical-align: top;\n",
       "    }\n",
       "\n",
       "    .dataframe thead th {\n",
       "        text-align: right;\n",
       "    }\n",
       "</style>\n",
       "<table border=\"1\" class=\"dataframe\">\n",
       "  <thead>\n",
       "    <tr style=\"text-align: right;\">\n",
       "      <th></th>\n",
       "      <th>Date</th>\n",
       "      <th>Open</th>\n",
       "      <th>High</th>\n",
       "      <th>Low</th>\n",
       "      <th>Close</th>\n",
       "      <th>Adj Close</th>\n",
       "      <th>Volume</th>\n",
       "    </tr>\n",
       "  </thead>\n",
       "  <tbody>\n",
       "    <tr>\n",
       "      <th>0</th>\n",
       "      <td>2012-01-03</td>\n",
       "      <td>25.370001</td>\n",
       "      <td>26.340000</td>\n",
       "      <td>25.320000</td>\n",
       "      <td>26.110001</td>\n",
       "      <td>23.034264</td>\n",
       "      <td>12754300</td>\n",
       "    </tr>\n",
       "    <tr>\n",
       "      <th>1</th>\n",
       "      <td>2012-01-04</td>\n",
       "      <td>25.910000</td>\n",
       "      <td>26.580000</td>\n",
       "      <td>25.910000</td>\n",
       "      <td>26.459999</td>\n",
       "      <td>23.343037</td>\n",
       "      <td>12351500</td>\n",
       "    </tr>\n",
       "    <tr>\n",
       "      <th>2</th>\n",
       "      <td>2012-01-05</td>\n",
       "      <td>26.309999</td>\n",
       "      <td>26.370001</td>\n",
       "      <td>25.870001</td>\n",
       "      <td>26.110001</td>\n",
       "      <td>23.034264</td>\n",
       "      <td>8568600</td>\n",
       "    </tr>\n",
       "    <tr>\n",
       "      <th>3</th>\n",
       "      <td>2012-01-06</td>\n",
       "      <td>26.250000</td>\n",
       "      <td>26.250000</td>\n",
       "      <td>25.639999</td>\n",
       "      <td>25.690001</td>\n",
       "      <td>22.663742</td>\n",
       "      <td>8532100</td>\n",
       "    </tr>\n",
       "    <tr>\n",
       "      <th>4</th>\n",
       "      <td>2012-01-09</td>\n",
       "      <td>26.080000</td>\n",
       "      <td>26.969999</td>\n",
       "      <td>25.930000</td>\n",
       "      <td>26.879999</td>\n",
       "      <td>23.713554</td>\n",
       "      <td>26046600</td>\n",
       "    </tr>\n",
       "  </tbody>\n",
       "</table>\n",
       "</div>"
      ],
      "text/plain": [
       "         Date       Open       High        Low      Close  Adj Close    Volume\n",
       "0  2012-01-03  25.370001  26.340000  25.320000  26.110001  23.034264  12754300\n",
       "1  2012-01-04  25.910000  26.580000  25.910000  26.459999  23.343037  12351500\n",
       "2  2012-01-05  26.309999  26.370001  25.870001  26.110001  23.034264   8568600\n",
       "3  2012-01-06  26.250000  26.250000  25.639999  25.690001  22.663742   8532100\n",
       "4  2012-01-09  26.080000  26.969999  25.930000  26.879999  23.713554  26046600"
      ]
     },
     "execution_count": 222,
     "metadata": {},
     "output_type": "execute_result"
    }
   ],
   "source": [
    "# Check the head of our dataset to give us a glimpse into the kind of dataset we’re working with.\n",
    "dataset_train.head()"
   ]
  },
  {
   "cell_type": "code",
   "execution_count": 223,
   "metadata": {},
   "outputs": [],
   "source": [
    "# Selecting the Open column that we’ll use in our modeling\n",
    "dataset_train = dataset_train.iloc[:, 1:2].values \n",
    "# notice ==>> df.iloc[:, 1:2] returns a dataframe whereas df.iloc[:, 1] returns a series \n",
    "# notice ==>\"Open\" column is the starting price while the Close column is the final price of a stock on a particular trading day. "
   ]
  },
  {
   "cell_type": "code",
   "execution_count": 224,
   "metadata": {},
   "outputs": [
    {
     "data": {
      "text/plain": [
       "array([[25.370001],\n",
       "       [25.91    ],\n",
       "       [26.309999],\n",
       "       ...,\n",
       "       [12.      ],\n",
       "       [12.56    ],\n",
       "       [13.01    ]])"
      ]
     },
     "execution_count": 224,
     "metadata": {},
     "output_type": "execute_result"
    }
   ],
   "source": [
    "dataset_train \n"
   ]
  },
  {
   "cell_type": "markdown",
   "metadata": {},
   "source": [
    "#### Feature Scaling\n",
    " * We have to scale our data for optimal performance. \n",
    " * Scikit MinMaxScaler will scale our dataset to numbers between zero and one."
   ]
  },
  {
   "cell_type": "code",
   "execution_count": 225,
   "metadata": {},
   "outputs": [],
   "source": [
    "# Normalization of the training set - Transform features by scaling each feature to a given range.\n",
    "normalizer = MinMaxScaler(feature_range=(0,1))\n",
    "train_set_scaled = normalizer.fit_transform(dataset_train) "
   ]
  },
  {
   "cell_type": "markdown",
   "metadata": {},
   "source": [
    "#### Creating Data with Timesteps\n",
    "* LSTM expect our data to be in a specific format, usually a 3D array. \n",
    "* We start by creating data in 90 timesteps and converting it into an array using NumPy. \n",
    "* Next, we convert the data into a 3D dimension array with X_train samples, 90 timestamps, and one feature at each step."
   ]
  },
  {
   "cell_type": "code",
   "execution_count": 226,
   "metadata": {},
   "outputs": [],
   "source": [
    "# Creating data with timesteps for the train_set_scaled\n",
    "# timesteps ==>> to train the algorithm, I will check 90 rows on each step  \n",
    "x_train = []\n",
    "y_real = []\n",
    "\n",
    "for i in range(45, 1759): \n",
    "    x_train.append(train_set_scaled[i-45:i, 0])  \n",
    "    # in other words => first iteration: [90-90:90, collumn index: 0] (from zero until 89)\n",
    "    # => segunda iteration: [91-90:91, collumn index: 0] (from 1 until 90)\n",
    "    # => segunda iteration: [92-90:92, collumn index: 0] (from 2 until 91)\n",
    "    # etc\n",
    "    y_real.append(train_set_scaled[i, 0])  # in other words => stores the index that it wants to predict \n",
    "     \n",
    " \n",
    "x_train, y_real = np.array(x_train), np.array(y_real) # I want the data to be in an numpy array\n",
    "x_train = np.reshape(x_train, (x_train.shape[0], x_train.shape[1], 1)) \n",
    "# Reshape method will create dimensions (it will have 3 dimensions: the two we had and one more)\n",
    "# NOTICE == >> we have to reshape our data to 3D because tensorflow requires it to run"
   ]
  },
  {
   "cell_type": "markdown",
   "metadata": {},
   "source": [
    "## PART 2 - Data Analysis - Building the LSTM"
   ]
  },
  {
   "cell_type": "code",
   "execution_count": 227,
   "metadata": {},
   "outputs": [],
   "source": [
    "#In order to build the LSTM, we need to import a couple of modules from Keras:\n",
    "\n",
    "from keras.models import Sequential #Sequential for initializing the neural network\n",
    "from keras.layers import Dense #Dense for adding a densely connected neural network layer\n",
    "from keras.layers import LSTM #LSTM for adding the Long Short-Term Memory layer\n",
    "from keras.layers import Dropout #Dropout for adding dropout layers that prevent overfitting"
   ]
  },
  {
   "cell_type": "markdown",
   "metadata": {},
   "source": [
    "### Building the LSTM\n",
    "* We add the LSTM layer and later add a few Dropout layers to prevent overfitting. \n",
    "* We add the LSTM layer with the following arguments:\n",
    "* 50 units which is the dimensionality of the output space\n",
    "* return_sequences=True (determines to return the last output in the output sequence, or the full sequence)\n",
    "* input_shape as the shape of our training set. "
   ]
  },
  {
   "cell_type": "code",
   "execution_count": 228,
   "metadata": {},
   "outputs": [
    {
     "name": "stdout",
     "output_type": "stream",
     "text": [
      "Epoch 1/100\n",
      "54/54 [==============================] - 12s 64ms/step - loss: 0.0198 - mean_absolute_error: 0.0963 3s - loss:  - ETA: 0s - loss: 0.0228 - mean_absolute_\n",
      "Epoch 2/100\n",
      "54/54 [==============================] - 3s 64ms/step - loss: 0.0048 - mean_absolute_error: 0.0523\n",
      "Epoch 3/100\n",
      "54/54 [==============================] - 3s 62ms/step - loss: 0.0047 - mean_absolute_error: 0.0514\n",
      "Epoch 4/100\n",
      "54/54 [==============================] - 3s 62ms/step - loss: 0.0043 - mean_absolute_error: 0.0478\n",
      "Epoch 5/100\n",
      "54/54 [==============================] - 3s 63ms/step - loss: 0.0032 - mean_absolute_error: 0.0427\n",
      "Epoch 6/100\n",
      "54/54 [==============================] - 4s 66ms/step - loss: 0.0028 - mean_absolute_error: 0.0395\n",
      "Epoch 7/100\n",
      "54/54 [==============================] - 3s 65ms/step - loss: 0.0030 - mean_absolute_error: 0.0400: 0s - loss: 0.0032 - mean_absolu\n",
      "Epoch 8/100\n",
      "54/54 [==============================] - 4s 71ms/step - loss: 0.0026 - mean_absolute_error: 0.0380\n",
      "Epoch 9/100\n",
      "54/54 [==============================] - 4s 69ms/step - loss: 0.0022 - mean_absolute_error: 0.0341: 1s - loss: 0.0022 - mean_abs\n",
      "Epoch 10/100\n",
      "54/54 [==============================] - 4s 66ms/step - loss: 0.0018 - mean_absolute_error: 0.0306: 2s - loss: 0.\n",
      "Epoch 11/100\n",
      "54/54 [==============================] - 4s 76ms/step - loss: 0.0020 - mean_absolute_error: 0.0337\n",
      "Epoch 12/100\n",
      "54/54 [==============================] - 4s 76ms/step - loss: 0.0019 - mean_absolute_error: 0.0315: 3s \n",
      "Epoch 13/100\n",
      "54/54 [==============================] - 4s 80ms/step - loss: 0.0021 - mean_absolute_error: 0.0325\n",
      "Epoch 14/100\n",
      "54/54 [==============================] - 4s 81ms/step - loss: 0.0018 - mean_absolute_error: 0.0307\n",
      "Epoch 15/100\n",
      "54/54 [==============================] - 5s 84ms/step - loss: 0.0018 - mean_absolute_error: 0.0307\n",
      "Epoch 16/100\n",
      "54/54 [==============================] - 4s 76ms/step - loss: 0.0018 - mean_absolute_error: 0.0304\n",
      "Epoch 17/100\n",
      "54/54 [==============================] - 4s 81ms/step - loss: 0.0014 - mean_absolute_error: 0.0271\n",
      "Epoch 18/100\n",
      "54/54 [==============================] - 4s 81ms/step - loss: 0.0016 - mean_absolute_error: 0.0285\n",
      "Epoch 19/100\n",
      "54/54 [==============================] - 4s 78ms/step - loss: 0.0016 - mean_absolute_error: 0.0282\n",
      "Epoch 20/100\n",
      "54/54 [==============================] - 4s 74ms/step - loss: 0.0013 - mean_absolute_error: 0.0263\n",
      "Epoch 21/100\n",
      "54/54 [==============================] - 5s 102ms/step - loss: 0.0012 - mean_absolute_error: 0.0250\n",
      "Epoch 22/100\n",
      "54/54 [==============================] - 5s 88ms/step - loss: 0.0012 - mean_absolute_error: 0.0253\n",
      "Epoch 23/100\n",
      "54/54 [==============================] - 5s 87ms/step - loss: 0.0011 - mean_absolute_error: 0.0246\n",
      "Epoch 24/100\n",
      "54/54 [==============================] - 5s 86ms/step - loss: 0.0011 - mean_absolute_error: 0.0241\n",
      "Epoch 25/100\n",
      "54/54 [==============================] - 4s 83ms/step - loss: 0.0013 - mean_absolute_error: 0.0265\n",
      "Epoch 26/100\n",
      "54/54 [==============================] - 5s 85ms/step - loss: 0.0011 - mean_absolute_error: 0.0234: 2s - loss:\n",
      "Epoch 27/100\n",
      "54/54 [==============================] - 5s 85ms/step - loss: 0.0013 - mean_absolute_error: 0.0254\n",
      "Epoch 28/100\n",
      "54/54 [==============================] - 4s 80ms/step - loss: 0.0012 - mean_absolute_error: 0.0248\n",
      "Epoch 29/100\n",
      "54/54 [==============================] - 4s 81ms/step - loss: 9.6434e-04 - mean_absolute_error: 0.0227\n",
      "Epoch 30/100\n",
      "54/54 [==============================] - 5s 89ms/step - loss: 0.0011 - mean_absolute_error: 0.0236: 0s - loss: 0.0011 - mean_absolute_erro\n",
      "Epoch 31/100\n",
      "54/54 [==============================] - 4s 82ms/step - loss: 9.9048e-04 - mean_absolute_error: 0.0231\n",
      "Epoch 32/100\n",
      "54/54 [==============================] - 5s 84ms/step - loss: 0.0011 - mean_absolute_error: 0.0249\n",
      "Epoch 33/100\n",
      "54/54 [==============================] - 4s 77ms/step - loss: 9.0237e-04 - mean_absolute_error: 0.0227\n",
      "Epoch 34/100\n",
      "54/54 [==============================] - 4s 79ms/step - loss: 9.7444e-04 - mean_absolute_error: 0.0228\n",
      "Epoch 35/100\n",
      "54/54 [==============================] - 4s 78ms/step - loss: 8.7852e-04 - mean_absolute_error: 0.0223\n",
      "Epoch 36/100\n",
      "54/54 [==============================] - 5s 88ms/step - loss: 8.8989e-04 - mean_absolute_error: 0.0222 - loss: 0.0010 - mean_absolute_erro - ETA: 3s - loss: 9.692\n",
      "Epoch 37/100\n",
      "54/54 [==============================] - 5s 97ms/step - loss: 8.2232e-04 - mean_absolute_error: 0.0216: 2s - loss: 7.8362e-04 -\n",
      "Epoch 38/100\n",
      "54/54 [==============================] - 6s 106ms/step - loss: 9.0324e-04 - mean_absolute_error: 0.0224\n",
      "Epoch 39/100\n",
      "54/54 [==============================] - 5s 92ms/step - loss: 9.0892e-04 - mean_absolute_error: 0.0219\n",
      "Epoch 40/100\n",
      "54/54 [==============================] - 5s 86ms/step - loss: 8.1542e-04 - mean_absolute_error: 0.0207\n",
      "Epoch 41/100\n",
      "54/54 [==============================] - 5s 93ms/step - loss: 8.3923e-04 - mean_absolute_error: 0.0210\n",
      "Epoch 42/100\n",
      "54/54 [==============================] - 5s 90ms/step - loss: 7.5645e-04 - mean_absolute_error: 0.0204\n",
      "Epoch 43/100\n",
      "54/54 [==============================] - 5s 89ms/step - loss: 8.2865e-04 - mean_absolute_error: 0.0214\n",
      "Epoch 44/100\n",
      "54/54 [==============================] - 4s 76ms/step - loss: 6.6577e-04 - mean_absolute_error: 0.0187\n",
      "Epoch 45/100\n",
      "54/54 [==============================] - 4s 78ms/step - loss: 7.4978e-04 - mean_absolute_error: 0.0206\n",
      "Epoch 46/100\n",
      "54/54 [==============================] - 4s 77ms/step - loss: 8.7307e-04 - mean_absolute_error: 0.0220\n",
      "Epoch 47/100\n",
      "54/54 [==============================] - 4s 80ms/step - loss: 6.8067e-04 - mean_absolute_error: 0.0193\n",
      "Epoch 48/100\n",
      "54/54 [==============================] - 5s 88ms/step - loss: 7.4889e-04 - mean_absolute_error: 0.0202\n",
      "Epoch 49/100\n",
      "54/54 [==============================] - 4s 79ms/step - loss: 8.0786e-04 - mean_absolute_error: 0.0208\n",
      "Epoch 50/100\n",
      "54/54 [==============================] - 5s 84ms/step - loss: 7.6389e-04 - mean_absolute_error: 0.0198\n",
      "Epoch 51/100\n",
      "54/54 [==============================] - 5s 85ms/step - loss: 7.0685e-04 - mean_absolute_error: 0.0196\n",
      "Epoch 52/100\n",
      "54/54 [==============================] - 5s 88ms/step - loss: 7.5461e-04 - mean_absolute_error: 0.0195\n",
      "Epoch 53/100\n",
      "54/54 [==============================] - 5s 85ms/step - loss: 7.6956e-04 - mean_absolute_error: 0.0196: 4s\n",
      "Epoch 54/100\n",
      "54/54 [==============================] - 4s 79ms/step - loss: 7.1719e-04 - mean_absolute_error: 0.0201\n",
      "Epoch 55/100\n",
      "54/54 [==============================] - 4s 79ms/step - loss: 6.5956e-04 - mean_absolute_error: 0.0188\n",
      "Epoch 56/100\n",
      "54/54 [==============================] - 5s 86ms/step - loss: 7.3202e-04 - mean_absolute_error: 0.0199\n",
      "Epoch 57/100\n",
      "54/54 [==============================] - 5s 87ms/step - loss: 7.4758e-04 - mean_absolute_error: 0.0201\n",
      "Epoch 58/100\n",
      "54/54 [==============================] - 4s 79ms/step - loss: 7.9689e-04 - mean_absolute_error: 0.0203\n",
      "Epoch 59/100\n",
      "54/54 [==============================] - 4s 81ms/step - loss: 7.1068e-04 - mean_absolute_error: 0.0193\n",
      "Epoch 60/100\n",
      "54/54 [==============================] - 5s 91ms/step - loss: 7.9116e-04 - mean_absolute_error: 0.0198: 3s - loss: \n",
      "Epoch 61/100\n",
      "54/54 [==============================] - 4s 82ms/step - loss: 6.8874e-04 - mean_absolute_error: 0.0194\n",
      "Epoch 62/100\n",
      "54/54 [==============================] - 4s 79ms/step - loss: 7.3601e-04 - mean_absolute_error: 0.0195\n",
      "Epoch 63/100\n",
      "54/54 [==============================] - 4s 80ms/step - loss: 7.6241e-04 - mean_absolute_error: 0.0201\n",
      "Epoch 64/100\n",
      "54/54 [==============================] - 4s 81ms/step - loss: 6.1519e-04 - mean_absolute_error: 0.0186\n",
      "Epoch 65/100\n",
      "54/54 [==============================] - 4s 80ms/step - loss: 6.7348e-04 - mean_absolute_error: 0.0188\n",
      "Epoch 66/100\n",
      "54/54 [==============================] - 4s 81ms/step - loss: 6.2510e-04 - mean_absolute_error: 0.0183\n",
      "Epoch 67/100\n",
      "54/54 [==============================] - 4s 80ms/step - loss: 6.3177e-04 - mean_absolute_error: 0.0189\n",
      "Epoch 68/100\n",
      "54/54 [==============================] - 4s 80ms/step - loss: 7.2187e-04 - mean_absolute_error: 0.0197\n",
      "Epoch 69/100\n"
     ]
    },
    {
     "name": "stdout",
     "output_type": "stream",
     "text": [
      "54/54 [==============================] - 4s 82ms/step - loss: 6.2224e-04 - mean_absolute_error: 0.0188: 3s - loss: 6.00\n",
      "Epoch 70/100\n",
      "54/54 [==============================] - 4s 79ms/step - loss: 5.9930e-04 - mean_absolute_error: 0.0184\n",
      "Epoch 71/100\n",
      "54/54 [==============================] - 5s 84ms/step - loss: 5.8803e-04 - mean_absolute_error: 0.0178: 1s - loss: 5.7601e-04 - mea\n",
      "Epoch 72/100\n",
      "54/54 [==============================] - 5s 84ms/step - loss: 6.3958e-04 - mean_absolute_error: 0.0183\n",
      "Epoch 73/100\n",
      "54/54 [==============================] - 4s 81ms/step - loss: 7.4277e-04 - mean_absolute_error: 0.0193\n",
      "Epoch 74/100\n",
      "54/54 [==============================] - 4s 80ms/step - loss: 6.1472e-04 - mean_absolute_error: 0.0183\n",
      "Epoch 75/100\n",
      "54/54 [==============================] - 4s 81ms/step - loss: 5.9753e-04 - mean_absolute_error: 0.0182\n",
      "Epoch 76/100\n",
      "54/54 [==============================] - 4s 80ms/step - loss: 5.7174e-04 - mean_absolute_error: 0.0176\n",
      "Epoch 77/100\n",
      "54/54 [==============================] - 4s 81ms/step - loss: 5.3757e-04 - mean_absolute_error: 0.0173\n",
      "Epoch 78/100\n",
      "54/54 [==============================] - 4s 81ms/step - loss: 7.2405e-04 - mean_absolute_error: 0.0195\n",
      "Epoch 79/100\n",
      "54/54 [==============================] - 4s 81ms/step - loss: 5.9054e-04 - mean_absolute_error: 0.0177\n",
      "Epoch 80/100\n",
      "54/54 [==============================] - 4s 81ms/step - loss: 5.8817e-04 - mean_absolute_error: 0.0181\n",
      "Epoch 81/100\n",
      "54/54 [==============================] - 4s 83ms/step - loss: 5.6873e-04 - mean_absolute_error: 0.0181\n",
      "Epoch 82/100\n",
      "54/54 [==============================] - 4s 83ms/step - loss: 5.8681e-04 - mean_absolute_error: 0.0180\n",
      "Epoch 83/100\n",
      "54/54 [==============================] - 4s 82ms/step - loss: 5.5321e-04 - mean_absolute_error: 0.0176\n",
      "Epoch 84/100\n",
      "54/54 [==============================] - 4s 82ms/step - loss: 5.8945e-04 - mean_absolute_error: 0.0177\n",
      "Epoch 85/100\n",
      "54/54 [==============================] - 4s 82ms/step - loss: 6.1222e-04 - mean_absolute_error: 0.0183\n",
      "Epoch 86/100\n",
      "54/54 [==============================] - 5s 86ms/step - loss: 5.8508e-04 - mean_absolute_error: 0.0176\n",
      "Epoch 87/100\n",
      "54/54 [==============================] - 5s 85ms/step - loss: 5.5588e-04 - mean_absolute_error: 0.0175\n",
      "Epoch 88/100\n",
      "54/54 [==============================] - 4s 82ms/step - loss: 5.9200e-04 - mean_absolute_error: 0.0180\n",
      "Epoch 89/100\n",
      "54/54 [==============================] - 4s 81ms/step - loss: 5.7922e-04 - mean_absolute_error: 0.0181\n",
      "Epoch 90/100\n",
      "54/54 [==============================] - 4s 81ms/step - loss: 5.5305e-04 - mean_absolute_error: 0.0168\n",
      "Epoch 91/100\n",
      "54/54 [==============================] - 4s 81ms/step - loss: 6.3688e-04 - mean_absolute_error: 0.0186\n",
      "Epoch 92/100\n",
      "54/54 [==============================] - 4s 83ms/step - loss: 6.6762e-04 - mean_absolute_error: 0.0193\n",
      "Epoch 93/100\n",
      "54/54 [==============================] - 4s 83ms/step - loss: 6.6499e-04 - mean_absolute_error: 0.0187\n",
      "Epoch 94/100\n",
      "54/54 [==============================] - 5s 84ms/step - loss: 5.5363e-04 - mean_absolute_error: 0.0174\n",
      "Epoch 95/100\n",
      "54/54 [==============================] - 5s 84ms/step - loss: 6.1929e-04 - mean_absolute_error: 0.0187: 2s - loss: 6.1800e-04 -\n",
      "Epoch 96/100\n",
      "54/54 [==============================] - 5s 84ms/step - loss: 5.3930e-04 - mean_absolute_error: 0.0171\n",
      "Epoch 97/100\n",
      "54/54 [==============================] - 5s 87ms/step - loss: 6.3025e-04 - mean_absolute_error: 0.0187\n",
      "Epoch 98/100\n",
      "54/54 [==============================] - 5s 90ms/step - loss: 6.3854e-04 - mean_absolute_error: 0.0183: 2s - loss: 6.6652e-04 -\n",
      "Epoch 99/100\n",
      "54/54 [==============================] - 5s 83ms/step - loss: 5.8700e-04 - mean_absolute_error: 0.0176\n",
      "Epoch 100/100\n",
      "54/54 [==============================] - 5s 85ms/step - loss: 5.1671e-04 - mean_absolute_error: 0.0171\n"
     ]
    },
    {
     "data": {
      "text/plain": [
       "<keras.callbacks.History at 0x2a48f0b5820>"
      ]
     },
     "execution_count": 228,
     "metadata": {},
     "output_type": "execute_result"
    }
   ],
   "source": [
    "regressor = Sequential() #  4 layers - each will have 50 neurons.  20% is the probability that each neuron will become inactivate during each epoch.\n",
    "#the result will be a bit worse, but in the testing phase i will have a better generalization\n",
    "regressor.add(LSTM(units = 50, return_sequences = True, input_shape = (x_train.shape[1], 1)))\n",
    "regressor.add(Dropout(0.2))  \n",
    "\n",
    "regressor.add(LSTM(units = 50, return_sequences = True))\n",
    "regressor.add(Dropout(0.2))  \n",
    "\n",
    "regressor.add(LSTM(units = 50)) # here i don't need the history cos I only need the result\n",
    "regressor.add(Dropout(0.2))\n",
    "\n",
    "# we add the Dense layer that specifies the output of 1 unit, the output is 1 \n",
    "regressor.add(Dense(units = 1, activation = 'linear')) # last layer is a dense layer with linear because I have continuous values\n",
    "\n",
    "# we compile our model using the popular adam optimizer and set the loss as the mean_squarred_error. \n",
    "#This will compute the mean of the squared errors.  \n",
    "regressor.compile(optimizer = 'rmsprop', loss = 'mean_squared_error',metrics = ['mean_absolute_error'])\n",
    "# mean_squared_error = measures the average of the squares of the errors / \n",
    "# Notice - if one of the errors is too big, it will impact the results a lot. \n",
    "# This is why \"mean absolute percentage error\" is used as a great solution to calculate the error.\n",
    "regressor.fit(x_train, y_real, epochs = 100, batch_size = 32) "
   ]
  },
  {
   "cell_type": "markdown",
   "metadata": {},
   "source": [
    "### Predicting Future Stock using the Test Set\n",
    "### In order to predict future stock prices, we will need to do a couple of steps: \n",
    "* Step 1) Load the test set, get rid of null values and choose the Open collumn \n",
    "* Step 2) Merge the training set and the test set on the 0 axis.\n",
    "* Step 3) Set the time step as 90 (as done previously) and reshape\n",
    "* Step 4) Use MinMaxScaler to transform and reshape the dataset as done previously\n",
    "* Step 5) After making the predictions we will have to use inverse_transform to get back the stock prices in normal readable format."
   ]
  },
  {
   "cell_type": "markdown",
   "metadata": {},
   "source": [
    "#### Step 1) Load the test set, get rid of null values and choose the Open collumn "
   ]
  },
  {
   "cell_type": "code",
   "execution_count": 229,
   "metadata": {},
   "outputs": [],
   "source": [
    "# Now loading the testing set\n",
    "dataset_test = pd.read_csv('dataset_2019.csv')"
   ]
  },
  {
   "cell_type": "code",
   "execution_count": 230,
   "metadata": {},
   "outputs": [],
   "source": [
    "# Drop null values\n",
    "dataset_test = dataset_test.dropna()"
   ]
  },
  {
   "cell_type": "code",
   "execution_count": 231,
   "metadata": {},
   "outputs": [
    {
     "data": {
      "text/plain": [
       "(251, 7)"
      ]
     },
     "execution_count": 231,
     "metadata": {},
     "output_type": "execute_result"
    }
   ],
   "source": [
    "dataset_test.shape"
   ]
  },
  {
   "cell_type": "code",
   "execution_count": 232,
   "metadata": {},
   "outputs": [
    {
     "data": {
      "text/html": [
       "<div>\n",
       "<style scoped>\n",
       "    .dataframe tbody tr th:only-of-type {\n",
       "        vertical-align: middle;\n",
       "    }\n",
       "\n",
       "    .dataframe tbody tr th {\n",
       "        vertical-align: top;\n",
       "    }\n",
       "\n",
       "    .dataframe thead th {\n",
       "        text-align: right;\n",
       "    }\n",
       "</style>\n",
       "<table border=\"1\" class=\"dataframe\">\n",
       "  <thead>\n",
       "    <tr style=\"text-align: right;\">\n",
       "      <th></th>\n",
       "      <th>Date</th>\n",
       "      <th>Open</th>\n",
       "      <th>High</th>\n",
       "      <th>Low</th>\n",
       "      <th>Close</th>\n",
       "      <th>Adj Close</th>\n",
       "      <th>Volume</th>\n",
       "    </tr>\n",
       "  </thead>\n",
       "  <tbody>\n",
       "    <tr>\n",
       "      <th>0</th>\n",
       "      <td>2019-01-02</td>\n",
       "      <td>13.19</td>\n",
       "      <td>14.11</td>\n",
       "      <td>13.09</td>\n",
       "      <td>14.01</td>\n",
       "      <td>13.280211</td>\n",
       "      <td>31001800</td>\n",
       "    </tr>\n",
       "    <tr>\n",
       "      <th>1</th>\n",
       "      <td>2019-01-03</td>\n",
       "      <td>14.40</td>\n",
       "      <td>14.42</td>\n",
       "      <td>13.93</td>\n",
       "      <td>14.26</td>\n",
       "      <td>13.517187</td>\n",
       "      <td>25681900</td>\n",
       "    </tr>\n",
       "    <tr>\n",
       "      <th>2</th>\n",
       "      <td>2019-01-04</td>\n",
       "      <td>14.43</td>\n",
       "      <td>14.80</td>\n",
       "      <td>14.31</td>\n",
       "      <td>14.76</td>\n",
       "      <td>13.991143</td>\n",
       "      <td>21083900</td>\n",
       "    </tr>\n",
       "    <tr>\n",
       "      <th>3</th>\n",
       "      <td>2019-01-07</td>\n",
       "      <td>14.91</td>\n",
       "      <td>15.54</td>\n",
       "      <td>14.45</td>\n",
       "      <td>15.06</td>\n",
       "      <td>14.275516</td>\n",
       "      <td>37305100</td>\n",
       "    </tr>\n",
       "    <tr>\n",
       "      <th>4</th>\n",
       "      <td>2019-01-08</td>\n",
       "      <td>15.34</td>\n",
       "      <td>15.43</td>\n",
       "      <td>15.07</td>\n",
       "      <td>15.20</td>\n",
       "      <td>14.408222</td>\n",
       "      <td>17556900</td>\n",
       "    </tr>\n",
       "  </tbody>\n",
       "</table>\n",
       "</div>"
      ],
      "text/plain": [
       "         Date   Open   High    Low  Close  Adj Close    Volume\n",
       "0  2019-01-02  13.19  14.11  13.09  14.01  13.280211  31001800\n",
       "1  2019-01-03  14.40  14.42  13.93  14.26  13.517187  25681900\n",
       "2  2019-01-04  14.43  14.80  14.31  14.76  13.991143  21083900\n",
       "3  2019-01-07  14.91  15.54  14.45  15.06  14.275516  37305100\n",
       "4  2019-01-08  15.34  15.43  15.07  15.20  14.408222  17556900"
      ]
     },
     "execution_count": 232,
     "metadata": {},
     "output_type": "execute_result"
    }
   ],
   "source": [
    "dataset_test.head()"
   ]
  },
  {
   "cell_type": "code",
   "execution_count": 233,
   "metadata": {},
   "outputs": [],
   "source": [
    "# Selecting the Open column that we’ll use in our modeling\n",
    "real_stock_price = dataset_test.iloc[:, 1:2].values  \n",
    "# notice ==>> df.iloc[:, 1:2] returns a dataframe whereas df.iloc[:, 1] returns a series \n",
    "# notice ==>\"Open\" column is the starting price while the Close column is the final price of a stock on a particular trading day. "
   ]
  },
  {
   "cell_type": "code",
   "execution_count": 234,
   "metadata": {},
   "outputs": [
    {
     "data": {
      "text/html": [
       "<div>\n",
       "<style scoped>\n",
       "    .dataframe tbody tr th:only-of-type {\n",
       "        vertical-align: middle;\n",
       "    }\n",
       "\n",
       "    .dataframe tbody tr th {\n",
       "        vertical-align: top;\n",
       "    }\n",
       "\n",
       "    .dataframe thead th {\n",
       "        text-align: right;\n",
       "    }\n",
       "</style>\n",
       "<table border=\"1\" class=\"dataframe\">\n",
       "  <thead>\n",
       "    <tr style=\"text-align: right;\">\n",
       "      <th></th>\n",
       "      <th>Date</th>\n",
       "      <th>Open</th>\n",
       "      <th>High</th>\n",
       "      <th>Low</th>\n",
       "      <th>Close</th>\n",
       "      <th>Adj Close</th>\n",
       "      <th>Volume</th>\n",
       "    </tr>\n",
       "  </thead>\n",
       "  <tbody>\n",
       "    <tr>\n",
       "      <th>0</th>\n",
       "      <td>2019-01-02</td>\n",
       "      <td>13.190000</td>\n",
       "      <td>14.110000</td>\n",
       "      <td>13.09</td>\n",
       "      <td>14.010000</td>\n",
       "      <td>13.280211</td>\n",
       "      <td>31001800</td>\n",
       "    </tr>\n",
       "    <tr>\n",
       "      <th>1</th>\n",
       "      <td>2019-01-03</td>\n",
       "      <td>14.400000</td>\n",
       "      <td>14.420000</td>\n",
       "      <td>13.93</td>\n",
       "      <td>14.260000</td>\n",
       "      <td>13.517187</td>\n",
       "      <td>25681900</td>\n",
       "    </tr>\n",
       "    <tr>\n",
       "      <th>2</th>\n",
       "      <td>2019-01-04</td>\n",
       "      <td>14.430000</td>\n",
       "      <td>14.800000</td>\n",
       "      <td>14.31</td>\n",
       "      <td>14.760000</td>\n",
       "      <td>13.991143</td>\n",
       "      <td>21083900</td>\n",
       "    </tr>\n",
       "    <tr>\n",
       "      <th>3</th>\n",
       "      <td>2019-01-07</td>\n",
       "      <td>14.910000</td>\n",
       "      <td>15.540000</td>\n",
       "      <td>14.45</td>\n",
       "      <td>15.060000</td>\n",
       "      <td>14.275516</td>\n",
       "      <td>37305100</td>\n",
       "    </tr>\n",
       "    <tr>\n",
       "      <th>4</th>\n",
       "      <td>2019-01-08</td>\n",
       "      <td>15.340000</td>\n",
       "      <td>15.430000</td>\n",
       "      <td>15.07</td>\n",
       "      <td>15.200000</td>\n",
       "      <td>14.408222</td>\n",
       "      <td>17556900</td>\n",
       "    </tr>\n",
       "    <tr>\n",
       "      <th>...</th>\n",
       "      <td>...</td>\n",
       "      <td>...</td>\n",
       "      <td>...</td>\n",
       "      <td>...</td>\n",
       "      <td>...</td>\n",
       "      <td>...</td>\n",
       "      <td>...</td>\n",
       "    </tr>\n",
       "    <tr>\n",
       "      <th>246</th>\n",
       "      <td>2019-12-23</td>\n",
       "      <td>15.690000</td>\n",
       "      <td>15.890000</td>\n",
       "      <td>15.65</td>\n",
       "      <td>15.880000</td>\n",
       "      <td>15.201505</td>\n",
       "      <td>12685600</td>\n",
       "    </tr>\n",
       "    <tr>\n",
       "      <th>247</th>\n",
       "      <td>2019-12-24</td>\n",
       "      <td>15.860000</td>\n",
       "      <td>15.970000</td>\n",
       "      <td>15.79</td>\n",
       "      <td>15.870000</td>\n",
       "      <td>15.191932</td>\n",
       "      <td>2875700</td>\n",
       "    </tr>\n",
       "    <tr>\n",
       "      <th>248</th>\n",
       "      <td>2019-12-26</td>\n",
       "      <td>16.040001</td>\n",
       "      <td>16.129999</td>\n",
       "      <td>15.98</td>\n",
       "      <td>16.129999</td>\n",
       "      <td>15.440823</td>\n",
       "      <td>9118300</td>\n",
       "    </tr>\n",
       "    <tr>\n",
       "      <th>249</th>\n",
       "      <td>2019-12-27</td>\n",
       "      <td>16.080000</td>\n",
       "      <td>16.120001</td>\n",
       "      <td>15.92</td>\n",
       "      <td>15.920000</td>\n",
       "      <td>15.239796</td>\n",
       "      <td>10012400</td>\n",
       "    </tr>\n",
       "    <tr>\n",
       "      <th>250</th>\n",
       "      <td>2019-12-30</td>\n",
       "      <td>16.090000</td>\n",
       "      <td>16.110001</td>\n",
       "      <td>15.88</td>\n",
       "      <td>15.900000</td>\n",
       "      <td>15.220650</td>\n",
       "      <td>9106300</td>\n",
       "    </tr>\n",
       "  </tbody>\n",
       "</table>\n",
       "<p>251 rows × 7 columns</p>\n",
       "</div>"
      ],
      "text/plain": [
       "           Date       Open       High    Low      Close  Adj Close    Volume\n",
       "0    2019-01-02  13.190000  14.110000  13.09  14.010000  13.280211  31001800\n",
       "1    2019-01-03  14.400000  14.420000  13.93  14.260000  13.517187  25681900\n",
       "2    2019-01-04  14.430000  14.800000  14.31  14.760000  13.991143  21083900\n",
       "3    2019-01-07  14.910000  15.540000  14.45  15.060000  14.275516  37305100\n",
       "4    2019-01-08  15.340000  15.430000  15.07  15.200000  14.408222  17556900\n",
       "..          ...        ...        ...    ...        ...        ...       ...\n",
       "246  2019-12-23  15.690000  15.890000  15.65  15.880000  15.201505  12685600\n",
       "247  2019-12-24  15.860000  15.970000  15.79  15.870000  15.191932   2875700\n",
       "248  2019-12-26  16.040001  16.129999  15.98  16.129999  15.440823   9118300\n",
       "249  2019-12-27  16.080000  16.120001  15.92  15.920000  15.239796  10012400\n",
       "250  2019-12-30  16.090000  16.110001  15.88  15.900000  15.220650   9106300\n",
       "\n",
       "[251 rows x 7 columns]"
      ]
     },
     "execution_count": 234,
     "metadata": {},
     "output_type": "execute_result"
    }
   ],
   "source": [
    "dataset_test"
   ]
  },
  {
   "cell_type": "code",
   "execution_count": 235,
   "metadata": {},
   "outputs": [
    {
     "data": {
      "text/plain": [
       "0      13.190000\n",
       "1      14.400000\n",
       "2      14.430000\n",
       "3      14.910000\n",
       "4      15.340000\n",
       "         ...    \n",
       "246    15.690000\n",
       "247    15.860000\n",
       "248    16.040001\n",
       "249    16.080000\n",
       "250    16.090000\n",
       "Name: Open, Length: 251, dtype: float64"
      ]
     },
     "execution_count": 235,
     "metadata": {},
     "output_type": "execute_result"
    }
   ],
   "source": [
    "dataset_test.Open"
   ]
  },
  {
   "cell_type": "code",
   "execution_count": 236,
   "metadata": {},
   "outputs": [
    {
     "data": {
      "text/html": [
       "<div>\n",
       "<style scoped>\n",
       "    .dataframe tbody tr th:only-of-type {\n",
       "        vertical-align: middle;\n",
       "    }\n",
       "\n",
       "    .dataframe tbody tr th {\n",
       "        vertical-align: top;\n",
       "    }\n",
       "\n",
       "    .dataframe thead th {\n",
       "        text-align: right;\n",
       "    }\n",
       "</style>\n",
       "<table border=\"1\" class=\"dataframe\">\n",
       "  <thead>\n",
       "    <tr style=\"text-align: right;\">\n",
       "      <th></th>\n",
       "      <th>Open</th>\n",
       "    </tr>\n",
       "  </thead>\n",
       "  <tbody>\n",
       "    <tr>\n",
       "      <th>0</th>\n",
       "      <td>25.370001</td>\n",
       "    </tr>\n",
       "  </tbody>\n",
       "</table>\n",
       "</div>"
      ],
      "text/plain": [
       "        Open\n",
       "0  25.370001"
      ]
     },
     "execution_count": 236,
     "metadata": {},
     "output_type": "execute_result"
    }
   ],
   "source": [
    "pd.DataFrame({'Open':dataset_train[0]})"
   ]
  },
  {
   "cell_type": "code",
   "execution_count": 237,
   "metadata": {},
   "outputs": [
    {
     "data": {
      "text/html": [
       "<div>\n",
       "<style scoped>\n",
       "    .dataframe tbody tr th:only-of-type {\n",
       "        vertical-align: middle;\n",
       "    }\n",
       "\n",
       "    .dataframe tbody tr th {\n",
       "        vertical-align: top;\n",
       "    }\n",
       "\n",
       "    .dataframe thead th {\n",
       "        text-align: right;\n",
       "    }\n",
       "</style>\n",
       "<table border=\"1\" class=\"dataframe\">\n",
       "  <thead>\n",
       "    <tr style=\"text-align: right;\">\n",
       "      <th></th>\n",
       "      <th>0</th>\n",
       "    </tr>\n",
       "  </thead>\n",
       "  <tbody>\n",
       "    <tr>\n",
       "      <th>0</th>\n",
       "      <td>25.370001</td>\n",
       "    </tr>\n",
       "    <tr>\n",
       "      <th>1</th>\n",
       "      <td>25.910000</td>\n",
       "    </tr>\n",
       "    <tr>\n",
       "      <th>2</th>\n",
       "      <td>26.309999</td>\n",
       "    </tr>\n",
       "    <tr>\n",
       "      <th>3</th>\n",
       "      <td>26.250000</td>\n",
       "    </tr>\n",
       "    <tr>\n",
       "      <th>4</th>\n",
       "      <td>26.080000</td>\n",
       "    </tr>\n",
       "    <tr>\n",
       "      <th>...</th>\n",
       "      <td>...</td>\n",
       "    </tr>\n",
       "    <tr>\n",
       "      <th>1754</th>\n",
       "      <td>12.500000</td>\n",
       "    </tr>\n",
       "    <tr>\n",
       "      <th>1755</th>\n",
       "      <td>12.280000</td>\n",
       "    </tr>\n",
       "    <tr>\n",
       "      <th>1756</th>\n",
       "      <td>12.000000</td>\n",
       "    </tr>\n",
       "    <tr>\n",
       "      <th>1757</th>\n",
       "      <td>12.560000</td>\n",
       "    </tr>\n",
       "    <tr>\n",
       "      <th>1758</th>\n",
       "      <td>13.010000</td>\n",
       "    </tr>\n",
       "  </tbody>\n",
       "</table>\n",
       "<p>1759 rows × 1 columns</p>\n",
       "</div>"
      ],
      "text/plain": [
       "              0\n",
       "0     25.370001\n",
       "1     25.910000\n",
       "2     26.309999\n",
       "3     26.250000\n",
       "4     26.080000\n",
       "...         ...\n",
       "1754  12.500000\n",
       "1755  12.280000\n",
       "1756  12.000000\n",
       "1757  12.560000\n",
       "1758  13.010000\n",
       "\n",
       "[1759 rows x 1 columns]"
      ]
     },
     "execution_count": 237,
     "metadata": {},
     "output_type": "execute_result"
    }
   ],
   "source": [
    "pd.DataFrame(dataset_train)"
   ]
  },
  {
   "cell_type": "markdown",
   "metadata": {},
   "source": [
    "#### Step 2) Merge the training set and the test set on the 0 axis."
   ]
  },
  {
   "cell_type": "code",
   "execution_count": 238,
   "metadata": {},
   "outputs": [],
   "source": [
    "dataset_totality = pd.concat((pd.DataFrame(dataset_train), dataset_test['Open']), axis = 0)\n",
    " "
   ]
  },
  {
   "cell_type": "markdown",
   "metadata": {},
   "source": [
    "#### Step 3) Set the time step as 90 (as done previously) reshape"
   ]
  },
  {
   "cell_type": "code",
   "execution_count": 239,
   "metadata": {},
   "outputs": [],
   "source": [
    "inputs = dataset_totality[len(dataset_totality) - len(dataset_test) - 30:].values\n",
    "# No meu dataset total eu quero garantir q pego só as linhas do dataset treino.  \n",
    "inputs = inputs.reshape(-1, 1) #reshape to turn it into a vector "
   ]
  },
  {
   "cell_type": "markdown",
   "metadata": {},
   "source": [
    "#### Step 4) Use MinMaxScaler to transform and reshape the dataset as done previously"
   ]
  },
  {
   "cell_type": "code",
   "execution_count": 240,
   "metadata": {},
   "outputs": [],
   "source": [
    "inputs = normalizer.transform(inputs) # AFINAL = usar aqui so transform ou fit_transform \n",
    "# Normalization of the test set - Transform features by scaling each feature to a given range."
   ]
  },
  {
   "cell_type": "code",
   "execution_count": 241,
   "metadata": {},
   "outputs": [
    {
     "data": {
      "text/plain": [
       "(281, 1)"
      ]
     },
     "execution_count": 241,
     "metadata": {},
     "output_type": "execute_result"
    }
   ],
   "source": [
    "inputs.shape"
   ]
  },
  {
   "cell_type": "code",
   "execution_count": 242,
   "metadata": {},
   "outputs": [],
   "source": [
    "#### Step 5) use inverse_transform to get back the stock prices in normal readable format."
   ]
  },
  {
   "cell_type": "code",
   "execution_count": 243,
   "metadata": {},
   "outputs": [],
   "source": [
    "# Creating data with timesteps for the train_set_scaled\n",
    "# timesteps ==>> checks 90 rows on each step on every sliding window\n",
    "x_test = []\n",
    "for i in range(45, 251):\n",
    "    x_test.append(inputs[i-45:i, 0]) # in other words => [90-90:90, collumn index: 0]\n",
    "\n",
    "x_test = np.array(x_test)\n",
    "x_test = np.reshape(x_test, (x_test.shape[0], x_test.shape[1], 1))\n",
    " \n",
    "# NOTICE == >> we have to reshape our data to 3D DataFrame (panel)\n",
    "# A data frame is a two-dimensional data structure, that is, the data is aligned in rows and columns in a table, a three-dimensional data structure is called panel."
   ]
  },
  {
   "cell_type": "markdown",
   "metadata": {},
   "source": [
    "#### Step 5) After making the predictions we will have to use inverse_transform to get back the stock prices in normal readable format. "
   ]
  },
  {
   "cell_type": "code",
   "execution_count": 244,
   "metadata": {},
   "outputs": [],
   "source": [
    "# Making the predictions\n",
    "predicted_stock_price = regressor.predict(x_test)\n",
    "# Get back the stock prices in normal readable format\n",
    "predicted_stock_price = normalizer.inverse_transform(predicted_stock_price) "
   ]
  },
  {
   "cell_type": "markdown",
   "metadata": {},
   "source": [
    "## PART 3 - Valuation of the Analysis - Plootting results\n"
   ]
  },
  {
   "cell_type": "code",
   "execution_count": 245,
   "metadata": {},
   "outputs": [
    {
     "data": {
      "image/png": "[encoded data removed]",
      "text/plain": [
       "<Figure size 432x288 with 1 Axes>"
      ]
     },
     "metadata": {
      "needs_background": "light"
     },
     "output_type": "display_data"
    }
   ],
   "source": [
    "plt.plot(real_stock_price, color = 'purple', label = 'Petrobras Stock Price')\n",
    "plt.plot(predicted_stock_price, color = 'green', label = 'Predicted Petrobras Stock Price')\n",
    "plt.title('Petrobras Stock Price Prediction')\n",
    "plt.xlabel('Time')\n",
    "plt.ylabel('Petrobras Stock Price')\n",
    "plt.legend()\n",
    "plt.show()\n",
    " "
   ]
  },
  {
   "cell_type": "code",
   "execution_count": 246,
   "metadata": {},
   "outputs": [],
   "source": [
    "# NOTICE:\n",
    "# If I increase the range in the loop ==>> I can predict shorter periods of time ==>> but with MORE accuracy   \n",
    "# If I decrease the range in the loop ==>> I can predict longer pediods of time ==>> but with LESS accuracy "
   ]
  },
  {
   "cell_type": "code",
   "execution_count": null,
   "metadata": {},
   "outputs": [],
   "source": []
  }
 ],
 "metadata": {
  "kernelspec": {
   "display_name": "Python 3",
   "language": "python",
   "name": "python3"
  },
  "language_info": {
   "codemirror_mode": {
    "name": "ipython",
    "version": 3
   },
   "file_extension": ".py",
   "mimetype": "text/x-python",
   "name": "python",
   "nbconvert_exporter": "python",
   "pygments_lexer": "ipython3",
   "version": "3.8.6"
  }
 },
 "nbformat": 4,
 "nbformat_minor": 4
}
